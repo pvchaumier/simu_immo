{
 "cells": [
  {
   "cell_type": "markdown",
   "metadata": {},
   "source": [
    "# Variables"
   ]
  },
  {
   "cell_type": "code",
   "execution_count": 1,
   "metadata": {
    "collapsed": true
   },
   "outputs": [],
   "source": [
    "# 1000 -> de 25 à 32 ans\n",
    "# 2000 -> de 32 à 35 ans\n",
    "# 3000 -> de 35 à 45 ans\n",
    "LOYERS = [1000] * 12 * 7 + [2000] * 12 * 3 + [3000] * 12 * 10\n",
    "\n",
    "# http://www.insee.fr/fr/statistiques/2045139?sommaire=2045470&q=table+mortalit%C3%A9\n",
    "ESP_VIE = {\n",
    "    60: 27.68,\n",
    "    61: 26.80,\n",
    "    62: 25.92,\n",
    "    63: 25.05,\n",
    "    64: 24.18,\n",
    "    65: 23.31,\n",
    "    66: 22.45,\n",
    "    67: 21.58,\n",
    "    68: 20.73,\n",
    "    69: 19.88,\n",
    "    70: 19.03,\n",
    "    71: 18.20,\n",
    "    72: 17.36,\n",
    "    73: 16.54,\n",
    "    74: 15.73,\n",
    "    75: 14.92,\n",
    "    76: 14.13,\n",
    "    77: 13.35,\n",
    "    78: 12.58,\n",
    "    79: 11.83,\n",
    "    80: 11.10,\n",
    "    81: 10.38,\n",
    "    82: 9.69,\n",
    "    83: 9.02,\n",
    "    84: 8.39,\n",
    "    85: 7.78,\n",
    "    86: 7.20,\n",
    "    87: 6.66,\n",
    "    88: 6.15,\n",
    "    89: 5.66,\n",
    "    90: 5.21,\n",
    "    91: 4.80,\n",
    "    92: 4.42,\n",
    "    93: 4.08,\n",
    "    94: 3.76,\n",
    "    95: 3.46,\n",
    "    96: 3.20,\n",
    "    97: 2.97,\n",
    "    98: 2.76,\n",
    "    99: 2.58,\n",
    "    100: 2.44,\n",
    "}"
   ]
  },
  {
   "cell_type": "markdown",
   "metadata": {},
   "source": [
    "# Functions"
   ]
  },
  {
   "cell_type": "code",
   "execution_count": 4,
   "metadata": {
    "collapsed": true
   },
   "outputs": [],
   "source": [
    "def limite_renta(bouquet, rente, valeur_venale):\n",
    "    u\"\"\"Retourne le nb de mois/années limite pour la rentabilité du viager.\"\"\"\n",
    "    if rente == 0:\n",
    "        print('pas de rente')\n",
    "        return\n",
    "    mois = (valeur_venale - bouquet) / rente\n",
    "    print('{an} ans et {mois} mois'.format(an=int(mois // 12), mois=int(mois % 12)))\n",
    "\n",
    "def limite_renta_avec_loyers(bouquet, rente, valeur_venale):\n",
    "    u\"\"\"Retourne le nb de mois/années limite pour la rentabilité du viager\n",
    "        en prenant en compte les loyers payés à côté.\n",
    "    \"\"\"\n",
    "    mois = 0\n",
    "    while valeur_venale > bouquet + mois * rente + sum(LOYERS[:mois]):\n",
    "       mois += 1\n",
    "    print('{an} ans et {mois} mois'.format(an=mois // 12, mois=mois % 12))\n",
    "\n",
    "def eval_viager(valeur_venale, loyer, age, bouquet, libre=False):\n",
    "    \"\"\"Evalue la valeur du bouquet et de la rente d'un viager.\"\"\"\n",
    "    reste = valeur_venale - bouquet\n",
    "    valeur_usage = ESP_VIE[age] * 12 * loyer\n",
    "    # rente cas occupé\n",
    "    rente = (reste - valeur_usage) / (12 * ESP_VIE[age])\n",
    "    # rente cas libre\n",
    "    if libre: rente = reste / (12 * ESP_VIE[age])\n",
    "    print('bouquet       = {bouquet:10.2f} €\\n'\n",
    "          'rente         = {rente:10.2f} €\\n'\n",
    "          'valeur_venale = {valeur_venale:10.2f} €\\n'\n",
    "          'valeur_usage  = {valeur_usage:10.2f} €\\n'.format(\n",
    "        bouquet=bouquet,\n",
    "        rente=rente,\n",
    "        valeur_venale=valeur_venale,\n",
    "        valeur_usage=valeur_usage\n",
    "    ))\n",
    "    return rente\n",
    "\n",
    "def eval_viager_rente_nulle(valeur_venale, loyer, age, libre=False):\n",
    "    \"\"\"Evalue la valeur du bouquet et de la rente d'un viager.\"\"\"\n",
    "    valeur_usage = 0\n",
    "    if not libre:\n",
    "        valeur_usage = ESP_VIE[age] * 12 * loyer\n",
    "    print('bouquet       = {bouquet:10.2f} €\\n'\n",
    "          'valeur_venale = {valeur_venale:10.2f} €\\n'\n",
    "          'valeur_usage  = {valeur_usage:10.2f} €\\n'.format(\n",
    "        bouquet=valeur_venale - valeur_usage,\n",
    "        valeur_venale=valeur_venale,\n",
    "        valeur_usage=valeur_usage\n",
    "    ))\n",
    "    return valeur_venale - valeur_usage"
   ]
  },
  {
   "cell_type": "code",
   "execution_count": 20,
   "metadata": {
    "collapsed": false
   },
   "outputs": [
    {
     "name": "stdout",
     "output_type": "stream",
     "text": [
      "bouquet       =  300000.00 €\n",
      "rente         =    1089.28 €\n",
      "valeur_venale = 1100000.00 €\n",
      "valeur_usage  =  517920.00 €\n",
      "\n"
     ]
    }
   ],
   "source": [
    "valeur_venale = 1100000\n",
    "loyer = 2000\n",
    "age = 67\n",
    "libre = False\n",
    "bouquet = 300000\n",
    "bouquet = eval_viager(valeur_venale, loyer, age, bouquet, libre=False)"
   ]
  },
  {
   "cell_type": "code",
   "execution_count": 22,
   "metadata": {
    "collapsed": false
   },
   "outputs": [
    {
     "name": "stdout",
     "output_type": "stream",
     "text": [
      "bouquet       =  699500.00 €\n",
      "valeur_venale = 1100000.00 €\n",
      "valeur_usage  =  400500.00 €\n",
      "\n",
      "limite_rentabilité\n",
      "pas de rente\n"
     ]
    }
   ],
   "source": [
    "valeur_venale = 1100000\n",
    "loyer = 2500\n",
    "age = 77\n",
    "libre = False\n",
    "bouquet = eval_viager_rente_nulle(valeur_venale, loyer, age, libre)\n",
    "print('limite_rentabilité')\n",
    "limite_renta(bouquet, 0, valeur_venale)"
   ]
  },
  {
   "cell_type": "code",
   "execution_count": 15,
   "metadata": {
    "collapsed": false
   },
   "outputs": [
    {
     "data": {
      "text/plain": [
       "800680.2721088436"
      ]
     },
     "execution_count": 15,
     "metadata": {},
     "output_type": "execute_result"
    }
   ],
   "source": [
    "prix_m2 = 1100000 / 147\n",
    "1100000 - 40 * prix_m2"
   ]
  }
 ],
 "metadata": {
  "anaconda-cloud": {},
  "kernelspec": {
   "display_name": "Python [Root]",
   "language": "python",
   "name": "Python [Root]"
  },
  "language_info": {
   "codemirror_mode": {
    "name": "ipython",
    "version": 2
   },
   "file_extension": ".py",
   "mimetype": "text/x-python",
   "name": "python",
   "nbconvert_exporter": "python",
   "pygments_lexer": "ipython2",
   "version": "2.7.12"
  }
 },
 "nbformat": 4,
 "nbformat_minor": 0
}
