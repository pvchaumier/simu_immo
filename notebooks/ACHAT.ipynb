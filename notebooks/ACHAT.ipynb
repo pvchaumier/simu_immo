{
 "cells": [
  {
   "cell_type": "code",
   "execution_count": 83,
   "metadata": {
    "collapsed": false
   },
   "outputs": [],
   "source": [
    "# V: value of the loan\n",
    "# T: annual rate of the loan\n",
    "# X: monthly payments\n",
    "# N: length of load in years\n",
    "\n",
    "\n",
    "def left_to_pay(V, T, X, nb_months):\n",
    "    \"\"\"How much is left for the loan.\"\"\"\n",
    "    return (1 + T / 12) ** nb_months * (V - 12 * X / T) + 12 * X / T\n",
    "\n",
    "\n",
    "def loan_summary(V, T, N, verbose=True):\n",
    "    \"\"\"Summarize a loan.\"\"\"\n",
    "    X = V * T / (1 - (1 + T) ** (- N)) / 12\n",
    "    loan_cost = X * 12 * N - V\n",
    "    if verbose:\n",
    "        print('Prêt de {V}€ à un taux de {T}% sur {N} an(s)\\n'\n",
    "              'mensualités : {X:10.2f} €\\n'\n",
    "              'cout du pret: {loan_cost:10.2f} €'.format(\n",
    "            V=V, T=100 * T, N=N, X=X, loan_cost=loan_cost,\n",
    "        ))\n",
    "    return X"
   ]
  },
  {
   "cell_type": "code",
   "execution_count": 72,
   "metadata": {
    "collapsed": false
   },
   "outputs": [
    {
     "name": "stdout",
     "output_type": "stream",
     "text": [
      "Prêt de 420000€ à un taux de 1.96% sur 20 an(s)\n",
      "\t- mensualités :    2132.23 €\n",
      "\t- cout du pret:   91735.57 €\n",
      "reste à payer au bout de 10 ans: 228448.93 €\n"
     ]
    }
   ],
   "source": [
    "V = 420000\n",
    "T = 1.96 /100\n",
    "N = 20\n",
    "X = loan_summary(V, T, N)\n",
    "print('reste à payer au bout de 10 ans: {:.2f} €'.format(left_to_pay(V, T, X, 10 * 12)))"
   ]
  },
  {
   "cell_type": "markdown",
   "metadata": {},
   "source": [
    "# Verneuil"
   ]
  },
  {
   "cell_type": "code",
   "execution_count": 174,
   "metadata": {
    "collapsed": false
   },
   "outputs": [
    {
     "name": "stdout",
     "output_type": "stream",
     "text": [
      "\n",
      "couts             :  719097.16 €\n",
      "================================\n",
      "- travaux         :  100000.00 €\n",
      "- mensualités     :    1929.16 €\n",
      "- pret payé       :  347249.13 €\n",
      "- capital restant :  106448.03 €\n",
      "- loyer           :   60000.00 €\n",
      "- impot + copro   :   50000.00 €\n",
      "- notaire         :   30400.00 €\n",
      "\n",
      "================================\n",
      "valo              :  576000.00 €\n",
      "\n",
      "================================\n",
      "résultat          : -143097.16 €\n",
      "location          : -180000.00 €\n",
      "  GO\n"
     ]
    }
   ],
   "source": [
    "# PRET\n",
    "N_AVANT_REVENTE = 15\n",
    "T = 1.96 / 100  # taux annuel du prêt\n",
    "N = 20  # durée prévue de l'emprunt\n",
    "V = 380000  # valeur achat = montant du prêt\n",
    "X = loan_summary(V, T, N, verbose=False)\n",
    "\n",
    "# VALO\n",
    "ALPHA = 1.00 ** N_AVANT_REVENTE  # augmentation immobilier\n",
    "E = 5  # nb d'année avant la mort\n",
    "M2_VENTE = 48  # taille à la revente\n",
    "PM2_VENTE = 12000  # prix du m2 à la revente\n",
    "TR = 100000  # montant travaux\n",
    "\n",
    "# travaux ?\n",
    "if ALPHA * PM2_VENTE * M2_VENTE < ALPHA * 43 * 10000 + TR:\n",
    "    TR = 0\n",
    "    PM2_VENTE = 10000  # par défaut 10 000 €/m2\n",
    "    M2_VENTE = 43  # par défaut pas de rajouts\n",
    "    \n",
    "# pret\n",
    "mensual = X * 12 * N_AVANT_REVENTE  # mensualité payées\n",
    "capital = left_to_pay(V, T, X, N_AVANT_REVENTE * 12)  # capital restant à rembourser\n",
    "    \n",
    "# couts \n",
    "couts = (mensual + capital +\n",
    "         N_AVANT_REVENTE * 5000 +  # impots locaux\n",
    "         TR +  # travaux\n",
    "         0.08 * V +  # notaire\n",
    "         E * 12 * 1000)  # loyers\n",
    "\n",
    "# resultat\n",
    "res = ALPHA * M2_VENTE * PM2_VENTE - couts\n",
    "\n",
    "# SUMMARY\n",
    "print()\n",
    "print('couts             : {:10.2f} €'.format(couts))\n",
    "print('=' * 32)\n",
    "print('- travaux         : {:10.2f} €'.format(TR))\n",
    "print('- mensualités     : {:10.2f} €'.format(X))\n",
    "print('- pret payé       : {:10.2f} €'.format(mensual))\n",
    "print('- capital restant : {:10.2f} €'.format(capital))\n",
    "print('- loyer           : {:10.2f} €'.format(E * 12 * 1000))\n",
    "print('- impot + copro   : {:10.2f} €'.format(10 * 5000))\n",
    "print('- notaire         : {:10.2f} €'.format(0.08 * V))\n",
    "print()\n",
    "print('=' * 32)\n",
    "print('valo              : {:10.2f} €'.format(ALPHA * PM2_VENTE * M2_VENTE))\n",
    "print()\n",
    "print('=' * 32)\n",
    "print('résultat          : {:10.2f} €'.format(res))\n",
    "print('location          : {:10.2f} €'.format(- 1000 * 12 * N_AVANT_REVENTE))\n",
    "if res > -1000 * 12 * N_AVANT_REVENTE:\n",
    "    print('  GO')\n",
    "else:\n",
    "    print('  NOGO')"
   ]
  },
  {
   "cell_type": "markdown",
   "metadata": {},
   "source": [
    "## Investir assurance vie"
   ]
  },
  {
   "cell_type": "code",
   "execution_count": 144,
   "metadata": {
    "collapsed": false
   },
   "outputs": [
    {
     "data": {
      "text/plain": [
       "65101.767859831845"
      ]
     },
     "execution_count": 144,
     "metadata": {},
     "output_type": "execute_result"
    }
   ],
   "source": [
    "res = 0\n",
    "n = 5\n",
    "for i in range(n):\n",
    "    res += ((2132 - 950) * 12 + 10000) * (1.017) ** i\n",
    "res - 1000 * 12 * n"
   ]
  },
  {
   "cell_type": "markdown",
   "metadata": {},
   "source": [
    "## Achat residence principale"
   ]
  },
  {
   "cell_type": "code",
   "execution_count": 181,
   "metadata": {
    "collapsed": false
   },
   "outputs": [
    {
     "name": "stdout",
     "output_type": "stream",
     "text": [
      "\n",
      "couts             :  584575.96 €\n",
      "================================\n",
      "- mensualités     :    2030.70 €\n",
      "- pret payé       :  365525.40 €\n",
      "- capital restant :  112050.56 €\n",
      "- impot + copro   :   50000.00 €\n",
      "- notaire         :   32000.00 €\n",
      "\n",
      "================================\n",
      "valo              :  400000.00 €\n",
      "loyers reçu       :   90000.00 €\n",
      "\n",
      "================================\n",
      "résultat          : -184575.96 €\n",
      "loyers            : -180000.00 €\n",
      "  NOGO\n"
     ]
    }
   ],
   "source": [
    "N_AVANT_REVENTE = 15\n",
    "\n",
    "T = 1.96 / 100  # taux annuel du prêt\n",
    "N = 20  # durée prévue de l'emprunt\n",
    "V = 400000  # valeur achat = montant du prêt\n",
    "X = loan_summary(V, T, N, verbose=False)\n",
    "ALPHA = 1.00 ** N_AVANT_REVENTE\n",
    "\n",
    "# pret\n",
    "mensual = X * 12 * N_AVANT_REVENTE  # mensualité payées\n",
    "capital = left_to_pay(V, T, X, N_AVANT_REVENTE * 12)  # capital restant à rembourser\n",
    "    \n",
    "# couts \n",
    "couts = (mensual + capital +\n",
    "         N_AVANT_REVENTE * 5000 +  # impots locaux\n",
    "         0.08 * V)  # notaire\n",
    "\n",
    "# res\n",
    "res = ALPHA * V - couts\n",
    "\n",
    "# SUMMARY\n",
    "print()\n",
    "print('couts             : {:10.2f} €'.format(couts))\n",
    "print('=' * 32)\n",
    "print('- mensualités     : {:10.2f} €'.format(X))\n",
    "print('- pret payé       : {:10.2f} €'.format(mensual))\n",
    "print('- capital restant : {:10.2f} €'.format(capital))\n",
    "print('- impot + copro   : {:10.2f} €'.format(10 * 5000))\n",
    "print('- notaire         : {:10.2f} €'.format(0.08 * V))\n",
    "print()\n",
    "print('=' * 32)\n",
    "print('valo              : {:10.2f} €'.format(ALPHA * V))\n",
    "print('loyers reçu       : {:10.2f} €'.format(N_AVANT_REVENTE * 12 * 500))\n",
    "print()\n",
    "print('=' * 32)\n",
    "print('résultat          : {:10.2f} €'.format(res))\n",
    "print('loyers            : {:10.2f} €'.format(- N_AVANT_REVENTE * 12 * 1000))\n",
    "if res > - N_AVANT_REVENTE * 12 * 1000:\n",
    "    print('  GO')\n",
    "else:\n",
    "    print('  NOGO')"
   ]
  }
 ],
 "metadata": {
  "kernelspec": {
   "display_name": "Python 3",
   "language": "python",
   "name": "python3"
  },
  "language_info": {
   "codemirror_mode": {
    "name": "ipython",
    "version": 3
   },
   "file_extension": ".py",
   "mimetype": "text/x-python",
   "name": "python",
   "nbconvert_exporter": "python",
   "pygments_lexer": "ipython3",
   "version": "3.4.2"
  }
 },
 "nbformat": 4,
 "nbformat_minor": 0
}
